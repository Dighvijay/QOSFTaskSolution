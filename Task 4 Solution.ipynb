{
 "cells": [
  {
   "cell_type": "markdown",
   "metadata": {},
   "source": [
    "### QOSF Screening Task Solution \n",
    "\n",
    "#### Name - Dighvijay Giri\n",
    "#### Email ID - dighvijaygiri98@gmail dot com\n",
    "\n",
    "Task choosen - Task 4\n",
    "\n",
    "Find the lowest eigenvalue of the following matrix:\n",
    "\n",
    "[1 0 0 0;\n",
    "0 0 -1 0;\n",
    "0 -1 0 0; \n",
    "0 0 0 1]\n",
    "\n",
    "using VQE-like circuits, created by yourself from scratch."
   ]
  },
  {
   "cell_type": "code",
   "execution_count": 1,
   "metadata": {},
   "outputs": [],
   "source": [
    "import numpy as np \n",
    "from numpy import kron\n",
    "\n",
    "from qiskit import QuantumCircuit, Aer, execute"
   ]
  },
  {
   "cell_type": "markdown",
   "metadata": {},
   "source": [
    "### Function to decompose given matrix into sum of pauli matrices\n"
   ]
  },
  {
   "cell_type": "code",
   "execution_count": 2,
   "metadata": {},
   "outputs": [],
   "source": [
    "def HS(M1, M2):\n",
    "    #Hilbert-Schmidt-Product of two matrices M1, M2\n",
    "    return (np.dot(M1.conjugate().transpose(), M2)).trace()\n",
    "\n",
    "def decompose(H):\n",
    "    #Decompose Hermitian 4x4 matrix H into Pauli matrices\n",
    "    \n",
    "    sx = np.array([[0, 1],  [ 1, 0]], dtype=np.complex128)\n",
    "    sy = np.array([[0, -1j],[1j, 0]], dtype=np.complex128)\n",
    "    sz = np.array([[1, 0],  [0, -1]], dtype=np.complex128)\n",
    "    id = np.array([[1, 0],  [ 0, 1]], dtype=np.complex128)\n",
    "    S = [id, sx, sy, sz]\n",
    "    \n",
    "    labels = ['I', 'X', 'Y', 'Z']\n",
    "    for i in range(4):\n",
    "        for j in range(4):\n",
    "            label = labels[i] + labels[j]\n",
    "            a_ij = 0.25 * HS(kron(S[i], S[j]), H)\n",
    "            if a_ij != 0.0:\n",
    "                print(a_ij,'*' ,label, '+')"
   ]
  },
  {
   "cell_type": "code",
   "execution_count": 3,
   "metadata": {},
   "outputs": [
    {
     "name": "stdout",
     "output_type": "stream",
     "text": [
      "(0.5+0j) * II +\n",
      "(-0.5+0j) * XX +\n",
      "(-0.5+0j) * YY +\n",
      "(0.5+0j) * ZZ +\n"
     ]
    }
   ],
   "source": [
    "H = np.array([[1, 0, 0, 0], [0, 0, -1, 0], [0, -1, 0, 0], [0, 0, 0, 1]])\n",
    "decompose(H)"
   ]
  },
  {
   "cell_type": "markdown",
   "metadata": {},
   "source": [
    "### Preparing guess states (ansatz)"
   ]
  },
  {
   "cell_type": "code",
   "execution_count": 4,
   "metadata": {},
   "outputs": [],
   "source": [
    "def prepare_ckt(angle):\n",
    "    ckt = QuantumCircuit(2)\n",
    "    ckt.h(0)\n",
    "    ckt.cx(0, 1)\n",
    "    ckt.rx(angle, 0)\n",
    "    \n",
    "    return ckt"
   ]
  },
  {
   "cell_type": "code",
   "execution_count": 5,
   "metadata": {},
   "outputs": [
    {
     "data": {
      "image/png": "[encoded data removed]",
      "text/plain": [
       "<Figure size 358.792x144.48 with 1 Axes>"
      ]
     },
     "execution_count": 5,
     "metadata": {},
     "output_type": "execute_result"
    }
   ],
   "source": [
    "ckt = prepare_ckt(np.pi/2) #just an arbitrary angle for looking at the circuit\n",
    "ckt.draw(output = 'mpl')"
   ]
  },
  {
   "cell_type": "markdown",
   "metadata": {},
   "source": [
    "### Measuring Expectation Values\n",
    "\n",
    "Starting with ZZ expectation value measurement. Creating a copy of the circuit and adding measurement elements to it."
   ]
  },
  {
   "cell_type": "code",
   "execution_count": 6,
   "metadata": {},
   "outputs": [
    {
     "data": {
      "image/png": "[encoded data removed]",
      "text/plain": [
       "<Figure size 539.392x204.68 with 1 Axes>"
      ]
     },
     "execution_count": 6,
     "metadata": {},
     "output_type": "execute_result"
    }
   ],
   "source": [
    "def measure_zz_circuit(ckt):\n",
    "    zz_meas = ckt.copy()\n",
    "    zz_meas.measure_all()\n",
    "    return zz_meas\n",
    "\n",
    "zz_meas = measure_zz_circuit(ckt)\n",
    "zz_meas.draw(output ='mpl')"
   ]
  },
  {
   "cell_type": "code",
   "execution_count": 7,
   "metadata": {},
   "outputs": [],
   "source": [
    "simulator = Aer.get_backend('qasm_simulator')"
   ]
  },
  {
   "cell_type": "code",
   "execution_count": 8,
   "metadata": {},
   "outputs": [],
   "source": [
    "def measure_zz(ckt, num_shots = 10000):\n",
    "    zz_meas = measure_zz_circuit(ckt)\n",
    "    \n",
    "    result = execute(zz_meas, backend = simulator, shots = num_shots).result()\n",
    "    counts = result.get_counts(zz_meas)\n",
    "\n",
    "    if '00' not in counts:\n",
    "        counts['00'] = 0\n",
    "    if '01' not in counts:\n",
    "        counts['01'] = 0\n",
    "    if '10' not in counts:\n",
    "        counts['10'] = 0\n",
    "    if '11' not in counts:\n",
    "        counts['11'] = 0 \n",
    "\n",
    "    total_counts = counts['00'] + counts['11'] + counts['01'] + counts['10']\n",
    "    #signs obtained by applying zz to 00, 01, 01 and 11 states\n",
    "    zz = counts['00'] + counts['11'] - counts['01'] - counts['10']  \n",
    "    zz = zz / total_counts\n",
    "    \n",
    "    return zz"
   ]
  },
  {
   "cell_type": "markdown",
   "metadata": {},
   "source": [
    "### To measure the expectation value of XX we need to add post rotations"
   ]
  },
  {
   "cell_type": "code",
   "execution_count": 9,
   "metadata": {},
   "outputs": [
    {
     "data": {
      "image/png": "[encoded data removed]",
      "text/plain": [
       "<Figure size 659.792x204.68 with 1 Axes>"
      ]
     },
     "execution_count": 9,
     "metadata": {},
     "output_type": "execute_result"
    }
   ],
   "source": [
    "def measure_xx_circuit(ckt):\n",
    "    xx_meas = ckt.copy()\n",
    "    \n",
    "    xx_meas.barrier()\n",
    "    xx_meas.ry(-np.pi/2,0)\n",
    "    xx_meas.ry(-np.pi/2,1)\n",
    "    xx_meas.measure_all()\n",
    "    \n",
    "    return xx_meas\n",
    "\n",
    "xx_meas = measure_xx_circuit(ckt)\n",
    "xx_meas.draw(output='mpl')"
   ]
  },
  {
   "cell_type": "code",
   "execution_count": 10,
   "metadata": {},
   "outputs": [],
   "source": [
    "def measure_xx(given_circuit, num_shots = 10000):\n",
    "    \n",
    "    xx_meas = measure_xx_circuit(given_circuit)\n",
    "    \n",
    "    result = execute(xx_meas, backend = simulator, shots = num_shots).result()\n",
    "    counts = result.get_counts(xx_meas)\n",
    "\n",
    "    if '00' not in counts:\n",
    "        counts['00'] = 0\n",
    "    if '01' not in counts:\n",
    "        counts['01'] = 0\n",
    "    if '10' not in counts:\n",
    "        counts['10'] = 0\n",
    "    if '11' not in counts:\n",
    "        counts['11'] = 0\n",
    "\n",
    "    total_counts = counts['00'] + counts['11'] + counts['01'] + counts['10']\n",
    "    xx = counts['00'] + counts['11'] - counts['01'] - counts['10']\n",
    "    xx = xx / total_counts\n",
    "    \n",
    "    return xx"
   ]
  },
  {
   "cell_type": "markdown",
   "metadata": {},
   "source": [
    "### Similarly, to measure the expectation value of YY we need to add post rotations"
   ]
  },
  {
   "cell_type": "code",
   "execution_count": 11,
   "metadata": {},
   "outputs": [
    {
     "data": {
      "image/png": "[encoded data removed]",
      "text/plain": [
       "<Figure size 659.792x204.68 with 1 Axes>"
      ]
     },
     "execution_count": 11,
     "metadata": {},
     "output_type": "execute_result"
    }
   ],
   "source": [
    "def measure_yy_circuit(ckt):\n",
    "    yy_meas = ckt.copy()\n",
    "\n",
    "    yy_meas.barrier()\n",
    "    yy_meas.rx(np.pi/2, 0)\n",
    "    yy_meas.rx(np.pi/2, 1)\n",
    "    yy_meas.measure_all()\n",
    "    \n",
    "    return yy_meas\n",
    "\n",
    "yy_meas = measure_yy_circuit(ckt)\n",
    "yy_meas.draw(output='mpl')"
   ]
  },
  {
   "cell_type": "code",
   "execution_count": 12,
   "metadata": {},
   "outputs": [],
   "source": [
    "def measure_yy(given_circuit, num_shots = 10000):\n",
    "    \n",
    "    yy_meas = measure_yy_circuit(given_circuit)\n",
    "    \n",
    "    result = execute(yy_meas, backend = simulator, shots = num_shots).result()\n",
    "    counts = result.get_counts(yy_meas)\n",
    "\n",
    "    if '00' not in counts:\n",
    "        counts['00'] = 0\n",
    "    if '01' not in counts:\n",
    "        counts['01'] = 0\n",
    "    if '10' not in counts:\n",
    "        counts['10'] = 0\n",
    "    if '11' not in counts:\n",
    "        counts['11'] = 0\n",
    "\n",
    "    total_counts = counts['00'] + counts['11'] + counts['01'] + counts['10']\n",
    "    yy = counts['00'] + counts['11'] - counts['01'] - counts['10']\n",
    "    yy = yy / total_counts\n",
    "    \n",
    "    return yy"
   ]
  },
  {
   "cell_type": "markdown",
   "metadata": {},
   "source": [
    "### Function to evaluate energy from the guess state"
   ]
  },
  {
   "cell_type": "code",
   "execution_count": 13,
   "metadata": {},
   "outputs": [],
   "source": [
    "def get_energy(given_circuit, num_shots = 10000):\n",
    "    \n",
    "    zz = measure_zz(given_circuit, num_shots = num_shots)\n",
    "    xx = measure_xx(given_circuit, num_shots = num_shots)\n",
    "    yy = measure_yy(given_circuit, num_shots = num_shots)\n",
    "    \n",
    "    energy = 0.5*1 + (-0.5)*xx + (-0.5)*yy + 0.5*zz\n",
    "    \n",
    "    return energy"
   ]
  },
  {
   "cell_type": "markdown",
   "metadata": {},
   "source": [
    "### Finding the lowest energy value"
   ]
  },
  {
   "cell_type": "code",
   "execution_count": 14,
   "metadata": {},
   "outputs": [
    {
     "name": "stdout",
     "output_type": "stream",
     "text": [
      "-1.0\n"
     ]
    }
   ],
   "source": [
    "low_energy = 10000\n",
    "for i in range(0, 361):\n",
    "    ckt1 = prepare_ckt(i*np.pi/180)\n",
    "    energy1 = get_energy(ckt1) \n",
    "    \n",
    "    if (low_energy > energy1):\n",
    "        low_energy = energy1\n",
    "    #print(i, low_energy)\n",
    "\n",
    "print(low_energy)"
   ]
  },
  {
   "cell_type": "code",
   "execution_count": 15,
   "metadata": {},
   "outputs": [
    {
     "name": "stdout",
     "output_type": "stream",
     "text": [
      "(array([ 1., -1.,  1.,  1.]), array([[ 0.        ,  0.        ,  1.        ,  0.        ],\n",
      "       [-0.70710678,  0.70710678,  0.        ,  0.        ],\n",
      "       [ 0.70710678,  0.70710678,  0.        ,  0.        ],\n",
      "       [ 0.        ,  0.        ,  0.        ,  1.        ]]))\n"
     ]
    }
   ],
   "source": [
    "w = np.linalg.eig(H)\n",
    "print(w)"
   ]
  }
 ],
 "metadata": {
  "kernelspec": {
   "display_name": "Python 3",
   "language": "python",
   "name": "python3"
  },
  "language_info": {
   "codemirror_mode": {
    "name": "ipython",
    "version": 3
   },
   "file_extension": ".py",
   "mimetype": "text/x-python",
   "name": "python",
   "nbconvert_exporter": "python",
   "pygments_lexer": "ipython3",
   "version": "3.6.9"
  }
 },
 "nbformat": 4,
 "nbformat_minor": 4
}
